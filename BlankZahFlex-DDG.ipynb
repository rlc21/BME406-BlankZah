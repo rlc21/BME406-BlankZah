{
 "cells": [
  {
   "cell_type": "markdown",
   "metadata": {
    "id": "DXbPAJrQUDeT"
   },
   "source": [
    "# Final"
   ]
  },
  {
   "cell_type": "markdown",
   "metadata": {
    "id": "cbcvyeYGXXsr"
   },
   "source": [
    "## Setup"
   ]
  },
  {
   "cell_type": "code",
   "execution_count": null,
   "metadata": {
    "colab": {
     "base_uri": "https://localhost:8080/",
     "height": 0
    },
    "collapsed": true,
    "executionInfo": {
     "elapsed": 45766,
     "status": "ok",
     "timestamp": 1737519745538,
     "user": {
      "displayName": "Hari Koneru",
      "userId": "03679207631741602048"
     },
     "user_tz": 300
    },
    "id": "ypIGwoRNV-Nt",
    "outputId": "4b31415c-52f0-449e-fbc1-6778a4522df3"
   },
   "outputs": [],
   "source": [
    "from google.colab import drive\n",
    "import sys\n",
    "drive.mount('/content/drive')\n",
    "\n",
    "nb_path = '/content/colab_libraries'\n",
    "# sys.path.insert(0,nb_path)\n",
    "\n",
    "# !pip install --target=$nb_path pyrosettacolabsetup\n",
    "# !pip install --target=$nb_path py3Dmol\n",
    "# !pip install --target=$nb_path nglview\n",
    "\n",
    "# sys.path.append(\"/usr/local/lib/python3.9/site-packages\")\n",
    "\n",
    "import pyrosettacolabsetup; pyrosettacolabsetup.install_pyrosetta()"
   ]
  },
  {
   "cell_type": "code",
   "execution_count": null,
   "metadata": {
    "colab": {
     "base_uri": "https://localhost:8080/"
    },
    "collapsed": true,
    "executionInfo": {
     "elapsed": 100,
     "status": "ok",
     "timestamp": 1737519745914,
     "user": {
      "displayName": "Hari Koneru",
      "userId": "03679207631741602048"
     },
     "user_tz": 300
    },
    "id": "2FP2qXV5V8xF",
    "outputId": "5c12419b-16b0-4165-9707-572ef881342c"
   },
   "outputs": [],
   "source": [
    "import pyrosetta; pyrosetta.init()\n",
    "from pyrosetta import *\n",
    "import glob\n",
    "print(glob.glob(\"*.pdb\"))"
   ]
  },
  {
   "cell_type": "code",
   "execution_count": null,
   "metadata": {
    "colab": {
     "base_uri": "https://localhost:8080/"
    },
    "collapsed": true,
    "executionInfo": {
     "elapsed": 5554,
     "status": "ok",
     "timestamp": 1737519758466,
     "user": {
      "displayName": "Hari Koneru",
      "userId": "03679207631741602048"
     },
     "user_tz": 300
    },
    "id": "twMFB8WsYh9b",
    "outputId": "bf9e16e3-aef3-48c3-d523-c4077d065f47"
   },
   "outputs": [],
   "source": [
    "from pyrosetta.toolbox import cleanATOM, mutate_residue\n",
    "from random import randrange,choice\n",
    "import copy\n",
    "AA= ['A', 'R', 'N', 'D', 'C', 'Q', 'E', 'G', 'H', 'I', 'L', 'K', 'M', 'F', 'P', 'S', 'T', 'W', 'Y', 'V']\n",
    "sfxn = get_score_function()\n",
    "fr = pyrosetta.rosetta.protocols.relax.FastRelax(scorefxn_in=sfxn , standard_repeats=1)# , standard_repeats=1\n",
    "# fr.constrain_relax_segments()"
   ]
  },
  {
   "cell_type": "markdown",
   "metadata": {
    "id": "R7NHJEMrXbbS"
   },
   "source": [
    "## Prepare the pdb files for AIP and the DARPin"
   ]
  },
  {
   "cell_type": "markdown",
   "metadata": {
    "id": "lkjrePy-Scxi"
   },
   "source": [
    "Use [this link](https://direvo.mutanalyst.com/params) to apply [this github repo](https://github.com/matteoferla/rdkit_to_params) to the AIP .mol file created manually based on [this paper](https://www.pnas.org/doi/10.1073/pnas.1506030112) and exported from pymol. This provides a .params file that is needed for pyrosetta to interpret this molecule not as a standard protein, but as a ligand small molecule (because otherwise it doesn't like the non-standard cyclic structure)."
   ]
  },
  {
   "cell_type": "code",
   "execution_count": null,
   "metadata": {
    "colab": {
     "base_uri": "https://localhost:8080/"
    },
    "executionInfo": {
     "elapsed": 409,
     "status": "ok",
     "timestamp": 1737521156076,
     "user": {
      "displayName": "Hari Koneru",
      "userId": "03679207631741602048"
     },
     "user_tz": 300
    },
    "id": "-biMIT__jzkj",
    "outputId": "7da6adaa-64ad-46f5-ac11-9397a866db17"
   },
   "outputs": [],
   "source": [
    "ligand_params = Vector1(['drive/MyDrive/BME406team/Flex-ddG/Autoinduced_Peptide_1.params'])\n",
    "\n",
    "# added a line to the params file to ensure that\n",
    "# it allows sampling from all 10 rotamers of AIP during the FastRelax protocol\n",
    "# these 10 rotamers are not in the base file, but in the rotamers file\n",
    "\n",
    "pose = pyrosetta.Pose()\n",
    "\n",
    "# code from https://graylab.jhu.edu/pyrosetta/downloads/scripts/demo/D120_Ligand_interface.py\n",
    "\n",
    "res_set = pose.conformation().modifiable_residue_type_set_for_conf()\n",
    "res_set.read_files_for_base_residue_types( ligand_params )\n",
    "pose.conformation().reset_residue_type_set_for_conf( res_set )\n",
    "\n",
    "pyrosetta.pose_from_file(pose, \"drive/MyDrive/BME406team/Flex-ddG/Autoinduced_Peptide_1_base.pdb\")\n",
    "\n",
    "print(sfxn(pose))\n",
    "fr.apply(pose)\n",
    "print(sfxn(pose)) # it chooses the lowest energy rotamer for now!\n",
    "\n",
    "# chain_pose=pyrosetta.rosetta.core.pose.Pose.split_by_chain(pose)\n",
    "\n",
    "# print(len(chain_pose))\n",
    "# a=[i for i in chain_pose]\n",
    "# [print(sfxn(a[i])) for i in range(10)]\n",
    "\n",
    "# a[6].dump_pdb(\"AIP_best.pdb\")\n",
    "\n",
    "pose.dump_pdb(\"drive/MyDrive/BME406team/Flex-ddG/AIP_best.pdb\")"
   ]
  },
  {
   "cell_type": "markdown",
   "metadata": {
    "id": "NywFlN5TWx2_"
   },
   "source": [
    "Alphafolded the DARPin sequence, converted the .cif file to a .pdb file used here"
   ]
  },
  {
   "cell_type": "code",
   "execution_count": null,
   "metadata": {
    "colab": {
     "base_uri": "https://localhost:8080/"
    },
    "collapsed": true,
    "executionInfo": {
     "elapsed": 90917,
     "status": "ok",
     "timestamp": 1737522051539,
     "user": {
      "displayName": "Hari Koneru",
      "userId": "03679207631741602048"
     },
     "user_tz": 300
    },
    "id": "9GvOSiL4-Pa1",
    "outputId": "06d2e998-7de5-4669-a349-39c42bfbab8e"
   },
   "outputs": [],
   "source": [
    "# binderc=pose_from_file('AIP-I-please.cif', read_fold_tree=True, type=pyrosetta.rosetta.core.import_pose.FileType.CIF_file)\n",
    "# binderc=pose_from_file('drive/MyDrive/BME406team/Flex-ddG/DARPin_fold.cif', read_fold_tree=True, type=pyrosetta.rosetta.core.import_pose.FileType.CIF_file)\n",
    "binderc=pose_from_pdb('drive/MyDrive/BME406team/Flex-ddG/DARPin_fold.pdb')\n",
    "print(sfxn(binderc))\n",
    "fr.apply(binderc)\n",
    "print(sfxn(binderc))\n",
    "fr.apply(binderc)\n",
    "print(sfxn(binderc))\n",
    "fr.apply(binderc)\n",
    "print(sfxn(binderc))\n",
    "binderc.dump_pdb(\"drive/MyDrive/BME406team/Flex-ddG/DARPin_best.pdb\")"
   ]
  },
  {
   "cell_type": "markdown",
   "metadata": {},
   "source": [
    "## Full Flex-DDG from iGEM DARPin"
   ]
  },
  {
   "cell_type": "markdown",
   "metadata": {
    "id": "7zCIDsvWXx_h"
   },
   "source": [
    "### Combine PDB files and relax"
   ]
  },
  {
   "cell_type": "markdown",
   "metadata": {
    "id": "qcDMVwobd7qv"
   },
   "source": [
    "Used pymol to manually combine the DARPin with AIP in 5 different initial configurations. Try relaxing all and see which gets lowest energy? Then assume that structure is how it normally binds, and optimize from there"
   ]
  },
  {
   "cell_type": "code",
   "execution_count": null,
   "metadata": {
    "colab": {
     "base_uri": "https://localhost:8080/"
    },
    "executionInfo": {
     "elapsed": 490362,
     "status": "ok",
     "timestamp": 1737524551135,
     "user": {
      "displayName": "Hari Koneru",
      "userId": "03679207631741602048"
     },
     "user_tz": 300
    },
    "id": "eIuYvOuU7Rxg",
    "outputId": "bec23fe9-60c1-4ee6-c2a2-a9bf85938b27"
   },
   "outputs": [],
   "source": [
    "energies=[[0,0,0,0] for i in range(5)]\n",
    "\n",
    "ligand_params = Vector1(['drive/MyDrive/BME406team/Flex-ddG/Autoinduced_Peptide_1.params'])\n",
    "pose = pyrosetta.Pose()\n",
    "res_set = pose.conformation().modifiable_residue_type_set_for_conf()\n",
    "res_set.read_files_for_base_residue_types( ligand_params )\n",
    "pose.conformation().reset_residue_type_set_for_conf( res_set )\n",
    "for i in range(5):\n",
    "    pose_from_file(pose, \"drive/MyDrive/BME406team/Flex-ddG/Binder+AIP_options/AIP_Binder_\"+str(i+1)+\".pdb\")\n",
    "    energies[i][0]=sfxn(pose)\n",
    "    for j in range(3):\n",
    "        fr.apply(pose)\n",
    "        energies[i][j+1]=sfxn(pose)\n",
    "        print(energies)"
   ]
  },
  {
   "cell_type": "markdown",
   "metadata": {
    "id": "1HxZDI6mlwOt"
   },
   "source": [
    "Output of the above:\n",
    "\n",
    "[[524.407356063892, -583.7837593817004, -584.6667501454315, -585.2322315222666],\n",
    "\n",
    "[6554.6713487588895, -579.1082024120345, -583.0821768382589, -586.5125765283539],\n",
    "\n",
    "[4496.01379091503, -570.1285169729424, -570.7696324307642, -578.8451111521164],\n",
    "\n",
    "[707.8885717434343, -584.3425479140429, -584.7510178103424, -581.0737362773634],\n",
    "\n",
    "[-577.8436817189021, -578.1326669929686, -576.7729430403792, -577.2334408723765]]"
   ]
  },
  {
   "cell_type": "code",
   "execution_count": null,
   "metadata": {
    "colab": {
     "base_uri": "https://localhost:8080/"
    },
    "executionInfo": {
     "elapsed": 139062,
     "status": "ok",
     "timestamp": 1737525844678,
     "user": {
      "displayName": "Hari Koneru",
      "userId": "03679207631741602048"
     },
     "user_tz": 300
    },
    "id": "KfUsbj1NUFWe",
    "outputId": "2e52ef29-ea7f-4bcd-8331-5459124126ee"
   },
   "outputs": [],
   "source": [
    "ligand_params = Vector1(['drive/MyDrive/BME406team/Flex-ddG/Autoinduced_Peptide_1.params'])\n",
    "pose = pyrosetta.Pose()\n",
    "res_set = pose.conformation().modifiable_residue_type_set_for_conf()\n",
    "res_set.read_files_for_base_residue_types( ligand_params )\n",
    "pose.conformation().reset_residue_type_set_for_conf( res_set )\n",
    "pose_from_file(pose, \"drive/MyDrive/BME406team/Flex-ddG/Binder+AIP_options/AIP_Binder_2.pdb\")\n",
    "print(sfxn(pose))\n",
    "fr.apply(pose)\n",
    "print(sfxn(pose))\n",
    "fr.apply(pose)\n",
    "print(sfxn(pose))\n",
    "fr.apply(pose)\n",
    "print(sfxn(pose))\n",
    "fr.apply(pose)\n",
    "print(sfxn(pose))\n",
    "pose.dump_pdb(\"drive/MyDrive/BME406team/Flex-ddG/Original_DARPin_Bound.pdb\")"
   ]
  },
  {
   "cell_type": "markdown",
   "metadata": {
    "id": "WKAUY8VNX6UN"
   },
   "source": [
    "### Flex ddG"
   ]
  },
  {
   "cell_type": "code",
   "execution_count": null,
   "metadata": {
    "id": "-p_VTrIxYeIe"
   },
   "outputs": [],
   "source": [
    "# flexddg\n",
    "ligand_params = Vector1(['drive/MyDrive/BME406team/Flex-ddG/Autoinduced_Peptide_1.params'])\n",
    "pose = pyrosetta.Pose()\n",
    "pose_old = pyrosetta.Pose()\n",
    "res_set = pose.conformation().modifiable_residue_type_set_for_conf()\n",
    "res_set.read_files_for_base_residue_types( ligand_params )\n",
    "pose.conformation().reset_residue_type_set_for_conf( res_set )\n",
    "pose_old.conformation().reset_residue_type_set_for_conf( res_set )\n",
    "for i in range(1000):\n",
    "    pose_from_file(pose, \"drive/MyDrive/BME406team/Flex-ddG/flexddg_run.pdb\")\n",
    "    mutate_residue(pose,randrange(1,len(pose.sequence())+1),choice(AA)) # 1-indexed AA to mutate\n",
    "    fr.apply(pose)\n",
    "    print(\"relaxed\")\n",
    "    pose_from_file(pose_old, \"drive/MyDrive/BME406team/Flex-ddG/flexddg_run.pdb\")\n",
    "    if sfxn(pose)<sfxn(pose_old):\n",
    "        pose.dump_pdb(\"drive/MyDrive/BME406team/Flex-ddG/flexddg_run.pdb\")\n",
    "        print(\"saved\")"
   ]
  },
  {
   "cell_type": "code",
   "execution_count": null,
   "metadata": {
    "colab": {
     "base_uri": "https://localhost:8080/"
    },
    "executionInfo": {
     "elapsed": 10246,
     "status": "ok",
     "timestamp": 1737485730908,
     "user": {
      "displayName": "Matthew Salfity",
      "userId": "02987036290019554858"
     },
     "user_tz": 300
    },
    "id": "3e0Go0-M3yeT",
    "outputId": "154ea047-89d3-4aa3-b155-97042cf7a455"
   },
   "outputs": [],
   "source": [
    "!pip install pyrosetta-installer\n",
    "!python -c 'import pyrosetta_installer; pyrosetta_installer.install_pyrosetta()'"
   ]
  },
  {
   "cell_type": "code",
   "execution_count": null,
   "metadata": {
    "id": "SWuAUjRrPvSP"
   },
   "outputs": [],
   "source": [
    "!wget https://graylab.jhu.edu/download/PyRosetta4/archive/release/PyRosetta4.Release.python38.linux/PyRosetta4.Release.python38.linux.release-321.tar.bz2\n",
    "!tar -xjf PyRosetta4.Release.python38.linux.release-321.tar.bz2\n",
    "import sys\n",
    "sys.path.append('/content/PyRosetta4.Release.python38.linux.release-321')\n",
    "import pyrosetta\n",
    "pyrosetta.init()"
   ]
  },
  {
   "cell_type": "code",
   "execution_count": null,
   "metadata": {
    "colab": {
     "base_uri": "https://localhost:8080/"
    },
    "id": "VmeXVLDlN9vW",
    "outputId": "89a00e01-fa66-47b4-ef96-fadfd3cb63f1"
   },
   "outputs": [],
   "source": [
    "from pyrosetta import *\n",
    "from pyrosetta.rosetta.protocols.ddg import ddGMover\n",
    "from pyrosetta.rosetta.protocols.relax import FastRelax\n",
    "from pyrosetta.rosetta.core.scoring import ScoreFunction\n",
    "from pyrosetta.rosetta.core.pose import Pose\n",
    "from pyrosetta.rosetta.protocols.simple_moves import MutateResidue\n",
    "\n",
    "# Initialize PyRosetta\n",
    "pyrosetta.init()\n",
    "\n",
    "# Load the PDB file\n",
    "pose = Pose()\n",
    "pyrosetta.rosetta.core.import_pose.pose_from_file(pose, \"4bxi.pdb\")\n",
    "\n",
    "# Create a score function\n",
    "scorefxn = pyrosetta.create_score_function(\"ref2015\")\n",
    "\n",
    "# Set up the ddG mover\n",
    "ddg = ddGMover()\n",
    "ddg.score_function(scorefxn)\n",
    "ddg.num_iterations(50)  # Number of iterations for sampling, increase for better results\n",
    "ddg.neighbor_cutoff(8.0)  # Angstroms\n",
    "\n",
    "# Set up the FastRelax mover for minimization\n",
    "relax = FastRelax()\n",
    "relax.set_scorefxn(scorefxn)\n",
    "\n",
    "# Function to perform flex ddG calculation\n",
    "def calculate_flex_ddg(pose, mutation):\n",
    "    # Create a copy of the original pose\n",
    "    mutant_pose = Pose(pose)\n",
    "\n",
    "    # Perform the mutation\n",
    "    mutate = MutateResidue(mutation[1], mutation[2])\n",
    "    mutate.apply(mutant_pose)\n",
    "\n",
    "    # Relax the mutant pose\n",
    "    relax.apply(mutant_pose)\n",
    "\n",
    "    # Calculate ddG\n",
    "    ddg.apply(mutant_pose)\n",
    "\n",
    "    # Get the ddG value\n",
    "    ddg_value = ddg.ddg()\n",
    "\n",
    "    return ddg_value\n",
    "\n",
    "# Example usage\n",
    "mutation = ('A', 10, 'ALA')  # Chain A, residue 10, mutate to Alanine\n",
    "ddg_value = calculate_flex_ddg(pose, mutation)\n",
    "print(f\"Predicted ddG for mutation {mutation}: {ddg_value} REU\")"
   ]
  },
  {
   "cell_type": "markdown",
   "metadata": {},
   "source": [
    "## Rational Flex-DDG from Randomized DARPin"
   ]
  },
  {
   "cell_type": "markdown",
   "metadata": {},
   "source": [
    "Used pymol to manually combine the DARPin with AIP in 8 different initial configurations, then applied the following code in a .py file on a compute cluster to run Flex-ddG multiple times on each of these 8 configurations in parallel."
   ]
  },
  {
   "cell_type": "code",
   "execution_count": null,
   "metadata": {},
   "outputs": [],
   "source": [
    "import pyrosetta_installer\n",
    "\n",
    "pyrosetta_installer.install_pyrosetta()\n",
    "import pyrosetta\n",
    "from pyrosetta import *\n",
    "import sys\n",
    "from tqdm import tqdm\n",
    "from pyrosetta.toolbox import cleanATOM, mutate_residue\n",
    "from random import randrange, choice\n",
    "import copy\n",
    "from datetime import datetime\n",
    "\n",
    "job_id = int(sys.argv[1])\n",
    "\n",
    "pyrosetta.init(\"-mute all\")\n",
    "# pyrosetta.init(\"-mute core basic protocols\")\n",
    "\n",
    "AA = [\n",
    "    \"A\",\n",
    "    \"R\",\n",
    "    \"N\",\n",
    "    \"D\",\n",
    "    \"C\",\n",
    "    \"Q\",\n",
    "    \"E\",\n",
    "    \"G\",\n",
    "    \"H\",\n",
    "    \"I\",\n",
    "    \"L\",\n",
    "    \"K\",\n",
    "    \"M\",\n",
    "    \"F\",\n",
    "    \"P\",\n",
    "    \"S\",\n",
    "    \"T\",\n",
    "    \"W\",\n",
    "    \"Y\",\n",
    "    \"V\",\n",
    "]\n",
    "residue_mut = [[32], [33, 34, 36, 44, 45], [41], [57]]\n",
    "# reduced number of possible mutations: speeds up algorithm and increases DARPin fitness\n",
    "AA_options = [\n",
    "    [\"D\", \"N\", \"S\", \"T\"],\n",
    "    [\"A\", \"R\", \"N\", \"D\", \"Q\", \"E\", \"H\", \"K\", \"S\", \"T\", \"W\", \"Y\"],\n",
    "    [\"A\", \"S\", \"T\", \"V\", \"L\"],\n",
    "    [\"N\", \"H\", \"Y\"],\n",
    "]\n",
    "all_mutations = [[]]\n",
    "for i in range(len(residue_mut)):\n",
    "    for j in range(len(residue_mut[i])):\n",
    "        for k in range(len(AA_options[i])):\n",
    "            for l in range(3):\n",
    "                all_mutations.append([residue_mut[i][j] + 1 + l * 33, AA_options[i][k]])\n",
    "all_mutations = all_mutations[1:]\n",
    "\n",
    "sfxn = get_score_function()\n",
    "fr = pyrosetta.rosetta.protocols.relax.FastRelax(\n",
    "    scorefxn_in=sfxn, standard_repeats=1\n",
    ")  # , standard_repeats=1\n",
    "# fr.constrain_relax_segments()\n",
    "\n",
    "ligand_params = Vector1([\"./Autoinduced_Peptide_1.params\"])\n",
    "pose = pyrosetta.Pose()\n",
    "pose_old = pyrosetta.Pose()\n",
    "res_set = pose.conformation().modifiable_residue_type_set_for_conf()\n",
    "res_set.read_files_for_base_residue_types(ligand_params)\n",
    "pose.conformation().reset_residue_type_set_for_conf(res_set)\n",
    "pose_old.conformation().reset_residue_type_set_for_conf(res_set)\n",
    "\n",
    "pose_from_file(pose, \"./input/DARPin_Bound_\" + str(job_id // 5 + 1) + \".pdb\")\n",
    "for i in range(10000):  # Make a lot of the allowed mutations to randomize the sequence to start with\n",
    "    mut = choice(all_mutations)\n",
    "    mutate_residue(pose, mut[0], mut[1])  # 1-indexed AA to mutate\n",
    "\n",
    "fr.apply(pose)\n",
    "\n",
    "pose.dump_pdb(\"./output/flex_\" + str(job_id) + \".pdb\")\n",
    "\n",
    "print(\"starting loop:<\" + str(sfxn(pose)) + \",\" + str(pose.sequence()) + \">\")\n",
    "start_time = datetime.now()\n",
    "for i in range(100000):\n",
    "    pose_from_file(pose, \"./output/flex_\" + str(job_id) + \".pdb\")\n",
    "    mut = choice(all_mutations)\n",
    "    mutate_residue(pose, mut[0], mut[1])  # 1-indexed AA to mutate\n",
    "    fr.apply(pose)\n",
    "    pose_from_file(pose_old, \"./output/flex_\" + str(job_id) + \".pdb\")\n",
    "    if sfxn(pose) < sfxn(pose_old):\n",
    "        pose.dump_pdb(\"./output/flex_\" + str(job_id) + \".pdb\")\n",
    "        print(\n",
    "            \"[\"\n",
    "            + str(datetime.now() - start_time)\n",
    "            + \"]saved:<\"\n",
    "            + str(sfxn(pose))\n",
    "            + \",\"\n",
    "            + str(pose.sequence())\n",
    "            + \">\"\n",
    "        )\n"
   ]
  }
 ],
 "metadata": {
  "colab": {
   "collapsed_sections": [
    "cbcvyeYGXXsr",
    "R7NHJEMrXbbS",
    "7zCIDsvWXx_h",
    "L4J2YXNLT9Ce"
   ],
   "provenance": [],
   "toc_visible": true
  },
  "kernelspec": {
   "display_name": "Python 3",
   "name": "python3"
  },
  "language_info": {
   "name": "python"
  }
 },
 "nbformat": 4,
 "nbformat_minor": 0
}
